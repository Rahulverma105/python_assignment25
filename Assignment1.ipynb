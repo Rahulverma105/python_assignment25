{
 "cells": [
  {
   "cell_type": "markdown",
   "id": "6320f772-3a56-47c0-a904-2122614e068e",
   "metadata": {},
   "source": [
    "# -----------------------------------Assignment1----------------------------------"
   ]
  },
  {
   "cell_type": "markdown",
   "id": "158b00e4-ccee-44d2-9f6d-cad4566c2453",
   "metadata": {},
   "source": [
    "1. Write a python program to print \"Hello Python\"?"
   ]
  },
  {
   "cell_type": "code",
   "execution_count": 1,
   "id": "86c6ec70-dc15-4a3d-ae51-a31181c32ccd",
   "metadata": {},
   "outputs": [
    {
     "name": "stdout",
     "output_type": "stream",
     "text": [
      "hello python\n"
     ]
    }
   ],
   "source": [
    "print(\"hello python\")"
   ]
  },
  {
   "cell_type": "markdown",
   "id": "14e53a1e-ee22-46d4-8446-f3515508d4f2",
   "metadata": {},
   "source": [
    "2. Write a python program to do arithmetical operations addition and division.?"
   ]
  },
  {
   "cell_type": "code",
   "execution_count": 2,
   "id": "7c3e63a8-1220-48e4-8bdd-46e8b2eb6fa8",
   "metadata": {},
   "outputs": [
    {
     "name": "stdout",
     "output_type": "stream",
     "text": [
      "Addition is :  40\n",
      "Division is : 1.0\n"
     ]
    }
   ],
   "source": [
    "number1 = 20\n",
    "number2 = 20\n",
    "total = number1 + number2\n",
    "division = number1/number2\n",
    "print(\"Addition is : \",total)\n",
    "print(\"Division is :\",division)"
   ]
  },
  {
   "cell_type": "markdown",
   "id": "2916b912-7fd4-4d23-9f17-42512e091465",
   "metadata": {},
   "source": [
    "3. Write a python program to find the area of a triangle?"
   ]
  },
  {
   "cell_type": "code",
   "execution_count": 3,
   "id": "ee6fc567-62fc-4228-afef-1e8a6ee62dc5",
   "metadata": {},
   "outputs": [
    {
     "name": "stdin",
     "output_type": "stream",
     "text": [
      "Enter the value of base :  10\n",
      "Enter the value of height : 40\n"
     ]
    },
    {
     "name": "stdout",
     "output_type": "stream",
     "text": [
      "Area of triangle is :  200.0\n"
     ]
    }
   ],
   "source": [
    "# area of triangle\n",
    "# 1/2 *base * height\n",
    "\n",
    "base = int(input(\"Enter the value of base : \"))\n",
    "height = int(input(\"Enter the value of height :\"))\n",
    "area = 1/2*(base)*height\n",
    "print(\"Area of triangle is : \",area)"
   ]
  },
  {
   "cell_type": "markdown",
   "id": "c315a003-10b6-4d34-8954-b476b97c01ca",
   "metadata": {},
   "source": [
    "4. Write a python program to swap two variables?"
   ]
  },
  {
   "cell_type": "code",
   "execution_count": 4,
   "id": "604f923e-1732-4e6e-a584-1434a88435b6",
   "metadata": {},
   "outputs": [
    {
     "name": "stdout",
     "output_type": "stream",
     "text": [
      "first variable value :  30\n",
      "second variable value :  20\n"
     ]
    }
   ],
   "source": [
    "first_variable = 20\n",
    "second_variable = 30\n",
    "first_variable,second_variable = second_variable,first_variable\n",
    "\n",
    "print(\"first variable value : \",first_variable)\n",
    "print(\"second variable value : \",second_variable)"
   ]
  },
  {
   "cell_type": "markdown",
   "id": "087956be-b9ce-4fee-af21-34e97779eace",
   "metadata": {},
   "source": [
    "5. write a python program to generate a random number?"
   ]
  },
  {
   "cell_type": "code",
   "execution_count": 6,
   "id": "c4324ede-9422-46a3-99fc-6d1fbd1effc5",
   "metadata": {},
   "outputs": [
    {
     "data": {
      "text/plain": [
       "0.48363310586447505"
      ]
     },
     "execution_count": 6,
     "metadata": {},
     "output_type": "execute_result"
    }
   ],
   "source": [
    "import random\n",
    "random.random()"
   ]
  },
  {
   "cell_type": "code",
   "execution_count": 7,
   "id": "08794ab0-4586-4386-9ad7-0a7df5064e07",
   "metadata": {},
   "outputs": [
    {
     "data": {
      "text/plain": [
       "3659"
      ]
     },
     "execution_count": 7,
     "metadata": {},
     "output_type": "execute_result"
    }
   ],
   "source": [
    "import random\n",
    "random.randint(1000,9999)"
   ]
  },
  {
   "cell_type": "code",
   "execution_count": 9,
   "id": "90b2d729-61c3-46ad-abd7-9199e5740b82",
   "metadata": {},
   "outputs": [
    {
     "name": "stdout",
     "output_type": "stream",
     "text": [
      "15\n"
     ]
    }
   ],
   "source": [
    "import random\n",
    "print(random.randrange(1,36,2))"
   ]
  },
  {
   "cell_type": "code",
   "execution_count": null,
   "id": "5378a725-9745-4241-8496-55e189744d0d",
   "metadata": {},
   "outputs": [],
   "source": []
  }
 ],
 "metadata": {
  "kernelspec": {
   "display_name": "Python 3 (ipykernel)",
   "language": "python",
   "name": "python3"
  },
  "language_info": {
   "codemirror_mode": {
    "name": "ipython",
    "version": 3
   },
   "file_extension": ".py",
   "mimetype": "text/x-python",
   "name": "python",
   "nbconvert_exporter": "python",
   "pygments_lexer": "ipython3",
   "version": "3.12.7"
  }
 },
 "nbformat": 4,
 "nbformat_minor": 5
}
