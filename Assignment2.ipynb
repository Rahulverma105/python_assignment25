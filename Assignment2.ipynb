{
 "cells": [
  {
   "cell_type": "markdown",
   "id": "384434fa-177b-40e8-b7d5-60c7df4985f5",
   "metadata": {},
   "source": [
    "# -----------------------------------Assignment2-------------------------------------"
   ]
  },
  {
   "cell_type": "markdown",
   "id": "3e5409d5-44a5-4f0e-a3ef-86eb01e817b4",
   "metadata": {},
   "source": [
    "1. Write a Python program to convert kilometers to miles?"
   ]
  },
  {
   "cell_type": "code",
   "execution_count": 1,
   "id": "3687f69b-6965-490f-9527-9d0ec81cd3ed",
   "metadata": {},
   "outputs": [
    {
     "name": "stdin",
     "output_type": "stream",
     "text": [
      "Enter tha value :  12\n"
     ]
    },
    {
     "name": "stdout",
     "output_type": "stream",
     "text": [
      "miles is in 12 are : 7.452\n"
     ]
    }
   ],
   "source": [
    "kilometer = int(input(\"Enter tha value : \"))\n",
    "miles = kilometer* .621\n",
    "print(f\"miles is in {kilometer} are : {miles}\")\n"
   ]
  },
  {
   "cell_type": "code",
   "execution_count": 2,
   "id": "9cc58be8-bf0a-4503-aff9-7fba78f44dd5",
   "metadata": {},
   "outputs": [
    {
     "name": "stdin",
     "output_type": "stream",
     "text": [
      "Enter your kilometer :  12\n"
     ]
    },
    {
     "name": "stdout",
     "output_type": "stream",
     "text": [
      "miles is in 12 are : 7.452\n"
     ]
    }
   ],
   "source": [
    "def km_to_milis(kilometer):\n",
    "    miles = kilometer* .621\n",
    "    print(f\"miles is in {kilometer} are : {miles}\")\n",
    "\n",
    "kilometer = int(input(\"Enter your kilometer : \"))\n",
    "km_to_milis(kilometer)"
   ]
  },
  {
   "cell_type": "markdown",
   "id": "cc4d5bc7-743f-4114-9799-e7932c919ccf",
   "metadata": {},
   "source": [
    "2. Write a Python program to convert Celsius to Fahrenheit?"
   ]
  },
  {
   "cell_type": "code",
   "execution_count": 6,
   "id": "bd7ff827-ffdf-4ce3-9f89-ac8c737f7e66",
   "metadata": {},
   "outputs": [
    {
     "name": "stdin",
     "output_type": "stream",
     "text": [
      "Enter the value of celsius :  12\n"
     ]
    },
    {
     "name": "stdout",
     "output_type": "stream",
     "text": [
      "Fahrenheit is in 12 are : 53.6\n"
     ]
    }
   ],
   "source": [
    "celsius = int(input(\"Enter the value of celsius : \"))\n",
    "Fahrenheit = (celsius * 9/5) + 32\n",
    "print(f\"Fahrenheit is in {celsius} are : {Fahrenheit}\")"
   ]
  },
  {
   "cell_type": "markdown",
   "id": "9bd691b5-dea7-4a51-a1a6-a49e537c2c17",
   "metadata": {},
   "source": [
    "3. Write a Python program to display calendar?"
   ]
  },
  {
   "cell_type": "code",
   "execution_count": 12,
   "id": "dd049b63-a520-4b25-bcb9-dc3d2f1f90fb",
   "metadata": {},
   "outputs": [
    {
     "name": "stdout",
     "output_type": "stream",
     "text": [
      "                                                            2025\n",
      "\n",
      "      January                   February                   March                     April                      May\n",
      "Mo Tu We Th Fr Sa Su      Mo Tu We Th Fr Sa Su      Mo Tu We Th Fr Sa Su      Mo Tu We Th Fr Sa Su      Mo Tu We Th Fr Sa Su\n",
      "       1  2  3  4  5                      1  2                      1  2          1  2  3  4  5  6                1  2  3  4\n",
      " 6  7  8  9 10 11 12       3  4  5  6  7  8  9       3  4  5  6  7  8  9       7  8  9 10 11 12 13       5  6  7  8  9 10 11\n",
      "13 14 15 16 17 18 19      10 11 12 13 14 15 16      10 11 12 13 14 15 16      14 15 16 17 18 19 20      12 13 14 15 16 17 18\n",
      "20 21 22 23 24 25 26      17 18 19 20 21 22 23      17 18 19 20 21 22 23      21 22 23 24 25 26 27      19 20 21 22 23 24 25\n",
      "27 28 29 30 31            24 25 26 27 28            24 25 26 27 28 29 30      28 29 30                  26 27 28 29 30 31\n",
      "                                                    31\n",
      "\n",
      "        June                      July                     August                  September                  October\n",
      "Mo Tu We Th Fr Sa Su      Mo Tu We Th Fr Sa Su      Mo Tu We Th Fr Sa Su      Mo Tu We Th Fr Sa Su      Mo Tu We Th Fr Sa Su\n",
      "                   1          1  2  3  4  5  6                   1  2  3       1  2  3  4  5  6  7             1  2  3  4  5\n",
      " 2  3  4  5  6  7  8       7  8  9 10 11 12 13       4  5  6  7  8  9 10       8  9 10 11 12 13 14       6  7  8  9 10 11 12\n",
      " 9 10 11 12 13 14 15      14 15 16 17 18 19 20      11 12 13 14 15 16 17      15 16 17 18 19 20 21      13 14 15 16 17 18 19\n",
      "16 17 18 19 20 21 22      21 22 23 24 25 26 27      18 19 20 21 22 23 24      22 23 24 25 26 27 28      20 21 22 23 24 25 26\n",
      "23 24 25 26 27 28 29      28 29 30 31               25 26 27 28 29 30 31      29 30                     27 28 29 30 31\n",
      "30\n",
      "\n",
      "      November                  December\n",
      "Mo Tu We Th Fr Sa Su      Mo Tu We Th Fr Sa Su\n",
      "                1  2       1  2  3  4  5  6  7\n",
      " 3  4  5  6  7  8  9       8  9 10 11 12 13 14\n",
      "10 11 12 13 14 15 16      15 16 17 18 19 20 21\n",
      "17 18 19 20 21 22 23      22 23 24 25 26 27 28\n",
      "24 25 26 27 28 29 30      29 30 31\n",
      "\n"
     ]
    }
   ],
   "source": [
    "import calendar\n",
    "\n",
    "print(calendar.calendar(2025,m=5))"
   ]
  },
  {
   "cell_type": "code",
   "execution_count": 13,
   "id": "30198b4e-0622-411e-ba4e-1ab80b863433",
   "metadata": {},
   "outputs": [
    {
     "name": "stdout",
     "output_type": "stream",
     "text": [
      "    January 2025\n",
      "Mo Tu We Th Fr Sa Su\n",
      "       1  2  3  4  5\n",
      " 6  7  8  9 10 11 12\n",
      "13 14 15 16 17 18 19\n",
      "20 21 22 23 24 25 26\n",
      "27 28 29 30 31\n",
      "\n"
     ]
    }
   ],
   "source": [
    "print(calendar.month(2025,1))"
   ]
  },
  {
   "cell_type": "code",
   "execution_count": 18,
   "id": "5b331f42-628f-4171-bf69-e67c09b91859",
   "metadata": {},
   "outputs": [
    {
     "data": {
      "text/plain": [
       "(calendar.SATURDAY, 28)"
      ]
     },
     "execution_count": 18,
     "metadata": {},
     "output_type": "execute_result"
    }
   ],
   "source": [
    "calendar.monthrange(2025,2)"
   ]
  },
  {
   "cell_type": "code",
   "execution_count": 19,
   "id": "db3a9134-cd60-421b-a17d-1cca68519d82",
   "metadata": {},
   "outputs": [
    {
     "name": "stdout",
     "output_type": "stream",
     "text": [
      "   February 2025\n",
      "Mo Tu We Th Fr Sa Su\n",
      "                1  2\n",
      " 3  4  5  6  7  8  9\n",
      "10 11 12 13 14 15 16\n",
      "17 18 19 20 21 22 23\n",
      "24 25 26 27 28\n",
      "\n"
     ]
    }
   ],
   "source": [
    "print(calendar.month(2025,2))"
   ]
  },
  {
   "cell_type": "code",
   "execution_count": 20,
   "id": "c4c8f361-5e78-44ae-b6f9-b46df115573b",
   "metadata": {},
   "outputs": [
    {
     "data": {
      "text/plain": [
       "'3.12.7 | packaged by Anaconda, Inc. | (main, Oct  4 2024, 13:17:27) [MSC v.1929 64 bit (AMD64)]'"
      ]
     },
     "execution_count": 20,
     "metadata": {},
     "output_type": "execute_result"
    }
   ],
   "source": [
    "import sys\n",
    "sys.version"
   ]
  },
  {
   "cell_type": "markdown",
   "id": "6e2c0c5d-bccd-438d-9e61-201d419a5728",
   "metadata": {},
   "source": [
    "4. Write a Python program to solve quadratic equation?"
   ]
  },
  {
   "cell_type": "code",
   "execution_count": 23,
   "id": "9bc29d17-897d-48f7-9162-3913966dbdb0",
   "metadata": {},
   "outputs": [
    {
     "name": "stdout",
     "output_type": "stream",
     "text": [
      "The roots are\n",
      "(-1-1.4142135623730951j)\n",
      "(-1+1.4142135623730951j)\n"
     ]
    }
   ],
   "source": [
    "import cmath\n",
    "\n",
    "a = 1\n",
    "b = 2\n",
    "c = 3\n",
    "\n",
    "\n",
    "dis = (b**2) - (4 * a*c)\n",
    "\n",
    "\n",
    "ans1 = (-b-cmath.sqrt(dis))/(2 * a)\n",
    "ans2 = (-b + cmath.sqrt(dis))/(2 * a)\n",
    "\n",
    "\n",
    "print('The roots are')\n",
    "print(ans1)\n",
    "print(ans2)"
   ]
  },
  {
   "cell_type": "code",
   "execution_count": null,
   "id": "006f8c0b-e61a-454e-ac5f-eb6ff6e75961",
   "metadata": {},
   "outputs": [],
   "source": []
  }
 ],
 "metadata": {
  "kernelspec": {
   "display_name": "Python 3 (ipykernel)",
   "language": "python",
   "name": "python3"
  },
  "language_info": {
   "codemirror_mode": {
    "name": "ipython",
    "version": 3
   },
   "file_extension": ".py",
   "mimetype": "text/x-python",
   "name": "python",
   "nbconvert_exporter": "python",
   "pygments_lexer": "ipython3",
   "version": "3.12.7"
  }
 },
 "nbformat": 4,
 "nbformat_minor": 5
}
